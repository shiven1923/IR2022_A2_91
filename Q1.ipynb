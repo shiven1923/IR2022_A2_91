{
 "cells": [
  {
   "cell_type": "code",
   "metadata": {
    "tags": [],
    "deepnote_to_be_reexecuted": false,
    "source_hash": "7711546a",
    "execution_start": 1649527597520,
    "execution_millis": 1851,
    "cell_id": "1dbb9c03-32df-41e7-973e-86a1192a7f07",
    "deepnote_cell_type": "code",
    "deepnote_cell_height": 348
   },
   "source": "import pandas as pd\nimport numpy as np\nimport os\nimport shutil\nfrom pathlib import Path\nimport nltk\nimport string\nimport json\nfrom nltk.tokenize import RegexpTokenizer\nfrom nltk.corpus import stopwords\nnltk.download('stopwords')\nimport pickle\nimport math",
   "execution_count": 2,
   "outputs": [
    {
     "name": "stderr",
     "text": "[nltk_data] Downloading package stopwords to /root/nltk_data...\n[nltk_data]   Unzipping corpora/stopwords.zip.\n",
     "output_type": "stream"
    }
   ]
  },
  {
   "cell_type": "code",
   "metadata": {
    "tags": [],
    "deepnote_to_be_reexecuted": false,
    "source_hash": "a267f6ac",
    "execution_start": 1649527669084,
    "execution_millis": 189,
    "cell_id": "00001-7c603061-cc5f-4ce5-8e7b-668bd2fb8697",
    "deepnote_cell_type": "code",
    "deepnote_cell_height": 135
   },
   "source": "f = open(\"id_to_tokens.txt\",\"rb\")\ntxt = f.read()\nf.close()\nid_to_tokens = pickle.loads(txt)",
   "execution_count": 9,
   "outputs": []
  },
  {
   "cell_type": "code",
   "metadata": {
    "tags": [],
    "deepnote_to_be_reexecuted": false,
    "source_hash": "5cce70d0",
    "execution_start": 1649527667361,
    "execution_millis": 0,
    "cell_id": "00002-54235c1a-10d5-47a1-b8f7-b89a3cef2a7e",
    "deepnote_cell_type": "code",
    "deepnote_cell_height": 135
   },
   "source": "f = open(\"id_to_name.txt\",\"rb\")\ntxt = f.read()\nf.close()\nid_to_name = pickle.loads(txt)",
   "execution_count": 8,
   "outputs": []
  },
  {
   "cell_type": "code",
   "metadata": {
    "tags": [],
    "deepnote_to_be_reexecuted": false,
    "source_hash": "114b0ad2",
    "execution_start": 1649527665740,
    "execution_millis": 57,
    "cell_id": "00003-3f6b962a-56d2-4ce2-8e5f-67e5aefc3f9e",
    "deepnote_cell_type": "code",
    "deepnote_cell_height": 135
   },
   "source": "f = open(\"name_to_id.txt\",\"rb\")\ntxt = f.read()\nf.close()\nname_to_id = pickle.loads(txt)",
   "execution_count": 7,
   "outputs": []
  },
  {
   "cell_type": "code",
   "metadata": {
    "tags": [],
    "deepnote_to_be_reexecuted": false,
    "source_hash": "a6dec50b",
    "execution_start": 1649527663856,
    "execution_millis": 5,
    "cell_id": "00004-3aa4fecf-b7c1-455f-af8c-bed870406a84",
    "deepnote_cell_type": "code",
    "deepnote_cell_height": 189
   },
   "source": "def process_query(query):\n    query = query.lower()\n    query = query.translate(str.maketrans(string.punctuation, ' '*len(string.punctuation)))\n    tokenizer = RegexpTokenizer(r'\\w+')\n    tokens = tokenizer.tokenize(query)\n    tokens_without_sw = [word for word in tokens if not word in stopwords.words('english')]\n    return tokens_without_sw",
   "execution_count": 6,
   "outputs": []
  },
  {
   "cell_type": "code",
   "metadata": {
    "tags": [],
    "deepnote_to_be_reexecuted": false,
    "source_hash": "313ba2c7",
    "execution_start": 1649527661984,
    "execution_millis": 5,
    "cell_id": "00005-27a6743b-9ffd-4d46-8125-6bfa316c1231",
    "deepnote_cell_type": "code",
    "deepnote_cell_height": 207
   },
   "source": "def jaccard_single_doc(query_token_list,document_token_list):\n    query_set = set(query_token_list)\n    document_set = set(document_token_list)\n    intersected_list = list(query_set & document_set)\n    union_list = list(query_set | document_set)\n    jacc_coeff = len(intersected_list)/len(union_list)\n    return jacc_coeff\n",
   "execution_count": 5,
   "outputs": []
  },
  {
   "cell_type": "code",
   "metadata": {
    "tags": [],
    "deepnote_to_be_reexecuted": false,
    "source_hash": "f8bc7fd3",
    "execution_start": 1649527658361,
    "execution_millis": 0,
    "cell_id": "00006-820e598f-c2e4-4e03-b4e3-a4d6db24ff9f",
    "deepnote_cell_type": "code",
    "deepnote_cell_height": 333
   },
   "source": "def relevant_by_jaccard(query,top_n_docs):\n    query_token_list = process_query(query)\n    total_docs = len(id_to_tokens)\n    id_to_jaccard = {}\n    for i in id_to_tokens:\n        document_token_list = id_to_tokens[i]\n        jacc_coeff = jaccard_single_doc(query_token_list,document_token_list)\n        id_to_jaccard[i] = jacc_coeff\n\n    id_to_jaccard = dict(sorted(id_to_jaccard.items(), key=lambda item: item[1],reverse=True))\n    top_ids = list(id_to_jaccard.keys())\n    for i in range(top_n_docs):\n        print(id_to_name[top_ids[i]])\n        # print(id_to_jaccard[top_ids[i]])\n",
   "execution_count": 4,
   "outputs": []
  },
  {
   "cell_type": "code",
   "metadata": {
    "tags": [],
    "deepnote_to_be_reexecuted": false,
    "source_hash": "a594bb41",
    "execution_start": 1649527673076,
    "execution_millis": 192,
    "cell_id": "00007-70f75012-4662-41fe-9f79-3185a8969bfe",
    "deepnote_cell_type": "code",
    "deepnote_cell_height": 191.3125
   },
   "source": "relevant_by_jaccard(\"Copyrighted November 28, 1992, by Curtis H. Hoffmann\",5)",
   "execution_count": 10,
   "outputs": [
    {
     "name": "stdout",
     "text": "flowchrt.txt\njambalay.pol\noxymoron.txt\npbcookie.des\ntemphell.jok\n",
     "output_type": "stream"
    }
   ]
  },
  {
   "cell_type": "code",
   "metadata": {
    "tags": [],
    "deepnote_to_be_reexecuted": false,
    "source_hash": "a24209b4",
    "execution_start": 1649496579819,
    "execution_millis": 1562,
    "cell_id": "00008-066e3108-de0a-4c92-bf12-4730412a2ebb",
    "deepnote_cell_type": "code",
    "deepnote_cell_height": 316.1875,
    "deepnote_output_heights": [
     21.1875
    ]
   },
   "source": "#Uncomment if want to build fresh vocab\n\n# vocab = []\n# vocab = set(vocab)\n\n# for i in id_to_tokens:\n#     tokens = id_to_tokens[i]\n#     tokens = set(tokens)\n#     vocab = vocab | tokens\n\n# vocab = list(vocab)\n# len(vocab)",
   "execution_count": null,
   "outputs": [
    {
     "output_type": "execute_result",
     "execution_count": 9,
     "data": {
      "text/plain": "71038"
     },
     "metadata": {}
    }
   ]
  },
  {
   "cell_type": "code",
   "metadata": {
    "tags": [],
    "deepnote_to_be_reexecuted": false,
    "source_hash": "19868dcc",
    "execution_start": 1649496581392,
    "execution_millis": 500,
    "cell_id": "00009-ba531e7f-c621-439f-bfa7-6875434841ac",
    "deepnote_cell_type": "code",
    "deepnote_cell_height": 345.859375
   },
   "source": "# Uncomment all below if want to build fresh weight matrix\n\n\n#unique_terms_plus_doc_freq = {}\n\n# for i in id_to_tokens:\n#     tokens_of_i = id_to_tokens[i]\n#     for j in tokens_of_i:\n#         if j in unique_terms_plus_doc_freq:\n#             unique_terms_plus_doc_freq[j]+=1\n#         else:\n#             unique_terms_plus_doc_freq[j]=1\n        \n# # print(len(unique_terms_plus_doc_freq))",
   "execution_count": null,
   "outputs": [
    {
     "name": "stdout",
     "text": "71038\n",
     "output_type": "stream"
    }
   ]
  },
  {
   "cell_type": "code",
   "metadata": {
    "tags": [],
    "allow_embed": false,
    "deepnote_to_be_reexecuted": false,
    "source_hash": "ff38dec5",
    "execution_start": 1649496581697,
    "execution_millis": 133,
    "cell_id": "00010-2c0df154-55c0-4838-a166-8b1fe5145715",
    "deepnote_cell_type": "code",
    "deepnote_cell_height": 261
   },
   "source": "# document_term_mat = {}\n\n# for i in id_to_tokens:\n#     nested_dictionary = {}\n#     all_tokens = id_to_tokens[i]\n#     for j in all_tokens:\n#         if (j in nested_dictionary):\n#             nested_dictionary[j]+=1\n#         else:\n#             nested_dictionary[j]=1\n#     document_term_mat[i] = nested_dictionary",
   "execution_count": null,
   "outputs": []
  },
  {
   "cell_type": "code",
   "metadata": {
    "tags": [],
    "deepnote_to_be_reexecuted": false,
    "source_hash": "432bca7b",
    "execution_start": 1649496581848,
    "execution_millis": 1,
    "cell_id": "00011-bfdec808-680e-4cbf-be1c-c3d7cccf2049",
    "deepnote_cell_type": "code",
    "deepnote_cell_height": 189
   },
   "source": "# def idf(term):\n#     total_docs = len(id_to_tokens)\n#     doc_frequency = unique_terms_plus_doc_freq[term]\n#     division = (total_docs/doc_frequency)\n#     division += 1\n#     idf_term = math.log10(division)\n#     return idf_term",
   "execution_count": null,
   "outputs": []
  },
  {
   "cell_type": "code",
   "metadata": {
    "tags": [],
    "deepnote_to_be_reexecuted": false,
    "source_hash": "a633f938",
    "execution_start": 1649496581849,
    "execution_millis": 0,
    "cell_id": "00012-72398890-bc4d-4f62-b4b5-29e1385c6d5f",
    "deepnote_cell_type": "code",
    "deepnote_cell_height": 603
   },
   "source": "# def tf(term, document_id):\n#     tf_td = 0\n#     if term not in document_term_mat[document_id]:\n#         tf_td = 0\n#     else:\n#         tf_td = document_term_mat[document_id][term]\n\n#     document_all_term_freq = document_term_mat[document_id]\n#     total = 0\n#     for i in document_all_term_freq:\n#         total += document_all_term_freq[i]\n\n#     term_freq_values = document_all_term_freq.values()\n#     max_term_freq = max(term_freq_values)\n    \n#     tf_binary = 0\n#     if (tf_td != 0):\n#         tf_binary = 1\n\n#     tf_rawcount = tf_td\n\n#     tf_termfrequency = (tf_td/total)\n\n#     tf_lognorm = math.log10(1+tf_td)\n\n#     tf_doublenorm = 0.5 + 0.5*(tf_td/max_term_freq)\n\n#     return [tf_binary,tf_rawcount,tf_termfrequency,tf_lognorm,tf_doublenorm]\n\n",
   "execution_count": null,
   "outputs": []
  },
  {
   "cell_type": "code",
   "metadata": {
    "tags": [],
    "deepnote_to_be_reexecuted": false,
    "source_hash": "b3727639",
    "execution_start": 1649496581850,
    "execution_millis": 0,
    "cell_id": "00013-b482e63e-833f-4e65-aba3-19c0ee776293",
    "deepnote_cell_type": "code",
    "deepnote_cell_height": 189
   },
   "source": "# def tf_idf(term,document_id):\n#     idf_t = idf(term)\n#     tf_td = tf(term,document_id)\n#     tf_idf_td = []\n#     for i in tf_td:\n#         tf_idf_td.append(i*idf_t)\n#     return tf_idf_td",
   "execution_count": null,
   "outputs": []
  },
  {
   "cell_type": "code",
   "metadata": {
    "tags": [],
    "deepnote_to_be_reexecuted": false,
    "source_hash": "c47f5e7b",
    "execution_start": 1649527579722,
    "execution_millis": 30940172,
    "cell_id": "00014-b74a460d-8910-4895-adf3-b71da63a14a2",
    "deepnote_cell_type": "code",
    "deepnote_cell_height": 441
   },
   "source": "#uncomment if want to construct fresh weight matrix\n\n\n#weight_mat = {}\n# default = [0,0,0,0,0.5]\n# for i in id_to_tokens:\n#     nested_dictionary = {}\n#     for j in vocab:\n#         nested_dictionary[j] = default\n#     weight_mat[i]=nested_dictionary\n\n# count = 0\n# for i in id_to_tokens:\n#     count+=1\n#     if count%100==0:\n#         print(count)\n#     all_terms = id_to_tokens[i]\n#     for j in all_terms:\n#         weight_mat[i][j]=tf_idf(j,i)\n\n",
   "execution_count": 1,
   "outputs": []
  },
  {
   "cell_type": "code",
   "metadata": {
    "tags": [],
    "deepnote_to_be_reexecuted": false,
    "source_hash": "47b39048",
    "execution_start": 1649496956021,
    "execution_millis": 14924,
    "cell_id": "00015-c443c985-cab5-42a5-9089-44a9c4939bff",
    "deepnote_cell_type": "code",
    "deepnote_cell_height": 117
   },
   "source": "# f = open(\"weight_mat.txt\",\"wb\")\n# pickle.dump(weight_mat,f)\n# f.close()",
   "execution_count": null,
   "outputs": []
  },
  {
   "cell_type": "code",
   "metadata": {
    "cell_id": "4093bebad6484074bd6167f174cadfd3",
    "tags": [],
    "deepnote_to_be_reexecuted": false,
    "source_hash": "793288be",
    "execution_start": 1649527605852,
    "execution_millis": 21653,
    "deepnote_cell_type": "code",
    "deepnote_cell_height": 135
   },
   "source": "f = open(\"weight_mat.txt\",\"rb\")\ntxt = f.read()\nf.close()\nweight_mat = pickle.loads(txt)",
   "execution_count": 3,
   "outputs": []
  },
  {
   "cell_type": "code",
   "metadata": {
    "tags": [],
    "deepnote_to_be_reexecuted": false,
    "source_hash": "62369665",
    "execution_start": 1649527797668,
    "execution_millis": 1,
    "cell_id": "00018-6e875534-bfa6-428b-a857-72f979efc3e0",
    "deepnote_cell_type": "code",
    "deepnote_cell_height": 1125
   },
   "source": "def relevant_by_tfidf(query,top_n_docs):\n    query_token_list = process_query(query)\n    \n    score_binary = {}\n    for i in id_to_tokens:\n        score_binary[i]=0\n    score_rawcount = score_binary.copy()\n    score_termfrequency = score_binary.copy()\n    score_lognorm = score_binary.copy()\n    score_doublenorm = score_binary.copy()\n    \n    for j in query_token_list:\n        for i in id_to_tokens:\n            score_binary[i]+=weight_mat[i][j][0]\n            score_rawcount[i]+=weight_mat[i][j][1]\n            score_termfrequency[i]+=weight_mat[i][j][2]\n            score_lognorm[i]+=weight_mat[i][j][3]\n            score_doublenorm[i]+=weight_mat[i][j][4]\n\n    sorted_binary = dict(sorted(score_binary.items(), key=lambda item: item[1],reverse=True))\n    sorted_rawcount = dict(sorted(score_rawcount.items(), key=lambda item: item[1],reverse=True))\n    sorted_termfrequency = dict(sorted(score_termfrequency.items(), key=lambda item: item[1],reverse=True))\n    sorted_lognorm = dict(sorted(score_lognorm.items(), key=lambda item: item[1],reverse=True))\n    sorted_doublenorm = dict(sorted(score_doublenorm.items(), key=lambda item: item[1],reverse=True))\n\n    top_ids_binary = list(sorted_binary.keys())\n    top_ids_rawcount = list(sorted_rawcount.keys())\n    top_ids_termfrequency = list(sorted_termfrequency.keys())\n    top_ids_lognorm = list(sorted_lognorm.keys())\n    top_ids_doublenorm = list(sorted_doublenorm.keys())\n\n    print(\"According to Binary Scheme\")\n    for i in range(top_n_docs):\n        print(id_to_name[top_ids_binary[i]])\n    print(\"\")\n\n    print(\"According to Raw Count Scheme\")\n    for i in range(top_n_docs):\n        print(id_to_name[top_ids_rawcount[i]])\n    print(\"\")\n\n    print(\"According to Term Frequency Scheme\")\n    for i in range(top_n_docs):\n        print(id_to_name[top_ids_termfrequency[i]])\n    print(\"\")\n\n    print(\"According to Log Normalisation Scheme\")\n    for i in range(top_n_docs):\n        print(id_to_name[top_ids_lognorm[i]])\n    print(\"\")\n\n    print(\"According to Double Normalisation Scheme\")\n    for i in range(top_n_docs):\n        print(id_to_name[top_ids_doublenorm[i]])\n    print(\"\")\n        \n        \n        \n    ",
   "execution_count": 11,
   "outputs": []
  },
  {
   "cell_type": "code",
   "metadata": {
    "tags": [],
    "deepnote_to_be_reexecuted": false,
    "source_hash": "67ba73c7",
    "execution_start": 1649527799794,
    "execution_millis": 34,
    "cell_id": "00019-cbbd6f75-d03f-43dd-8428-32080eb9442a",
    "owner_user_id": "e8b319f4-9075-46c0-a1a7-34af8e84f666",
    "deepnote_cell_type": "code",
    "deepnote_cell_height": 701
   },
   "source": "relevant_by_tfidf(\"helps with the digestion of rich\",5)",
   "execution_count": 12,
   "outputs": [
    {
     "name": "stdout",
     "text": "According to Binary Scheme\n1st_aid.txt\nfiber.txt\nurban.txt\nayurved.txt\nfusion.sup\n\nAccording to Raw Count Scheme\ncandy.txt\nmanners.txt\nmlverb.hum\nepi_merm.txt\nmelodram.hum\n\nAccording to Term Frequency Scheme\n1st_aid.txt\nacronym.txt\noilgluts.hum\nbredcake.des\nbeesherb.txt\n\nAccording to Log Normalisation Scheme\ncandy.txt\nmanners.txt\n1st_aid.txt\nfiber.txt\nmlverb.hum\n\nAccording to Double Normalisation Scheme\n1st_aid.txt\nayurved.txt\nfusion.sup\nfiber.txt\nurban.txt\n\n",
     "output_type": "stream"
    }
   ]
  },
  {
   "cell_type": "markdown",
   "source": "<a style='text-decoration:none;line-height:16px;display:flex;color:#5B5B62;padding:10px;justify-content:end;' href='https://deepnote.com?utm_source=created-in-deepnote-cell&projectId=04d84d63-ff1d-4672-9f78-d034a2868658' target=\"_blank\">\n<img alt='Created in deepnote.com' style='display:inline;max-height:16px;margin:0px;margin-right:7.5px;' src='data:image/svg+xml;base64,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' > </img>\nCreated in <span style='font-weight:600;margin-left:4px;'>Deepnote</span></a>",
   "metadata": {
    "tags": [],
    "created_in_deepnote_cell": true,
    "deepnote_cell_type": "markdown"
   }
  }
 ],
 "nbformat": 4,
 "nbformat_minor": 2,
 "metadata": {
  "orig_nbformat": 2,
  "deepnote": {
   "is_reactive": false
  },
  "deepnote_notebook_id": "d433836e-affa-4a9a-bda9-537beb42dec8",
  "deepnote_execution_queue": []
 }
}