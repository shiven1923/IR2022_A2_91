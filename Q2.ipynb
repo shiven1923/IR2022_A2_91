{
  "cells": [
    {
      "cell_type": "code",
      "execution_count": 1,
      "metadata": {
        "id": "6EhL91RKc-Y0"
      },
      "outputs": [],
      "source": [
        "import matplotlib.pyplot as plt\n",
        "import math"
      ]
    },
    {
      "cell_type": "code",
      "execution_count": 3,
      "metadata": {
        "id": "lnBTLs1Nd6d3"
      },
      "outputs": [],
      "source": [
        "dataset = open('IR-assignment-2-data.txt', 'r')\n",
        "queryList = []\n",
        "\n",
        "for pair in dataset:\n",
        "    pairDict = {}\n",
        "    pairList = pair.split()\n",
        "    pairDict['relevance'] = int(pairList[0])\n",
        "    pairDict['qid'] = int(pairList[1][4:])\n",
        "    \n",
        "    for i in range(2, len(pairList)):\n",
        "        key, value = pairList[i].split(\":\")\n",
        "        key = int(key)\n",
        "        pairDict[key] = float(value)\n",
        "    \n",
        "    if pairDict['qid'] == 4:\n",
        "        queryList.append(pairDict)"
      ]
    },
    {
      "cell_type": "code",
      "execution_count": null,
      "metadata": {
        "id": "Ikc6U8-SePs5"
      },
      "outputs": [],
      "source": [
        "def calculateDCG(queryLst):\n",
        "    discountedcumgain = 0\n",
        "    \n",
        "    for i in range(len(queryLst)):\n",
        "        rel = queryLst[i]['relevance']\n",
        "        rank = i + 1\n",
        "\n",
        "        dcg = (2 ** rel - 1) / math.log2(rank + 1)\n",
        "        discountedcumgain += dcg\n",
        "        \n",
        "    return discountedcumgain"
      ]
    },
    {
      "cell_type": "markdown",
      "metadata": {
        "id": "_WYejTO5ebYa"
      },
      "source": [
        "### **Query URL pairs in order of max dcg**"
      ]
    },
    {
      "cell_type": "code",
      "execution_count": null,
      "metadata": {
        "colab": {
          "base_uri": "https://localhost:8080/"
        },
        "id": "YrZNcj5Pedei",
        "outputId": "acfe5ab8-54b7-4146-a86d-9ea13292df5d"
      },
      "outputs": [
        {
          "name": "stdout",
          "output_type": "stream",
          "text": [
            "Maximum DCG:  28.98846753873482\n"
          ]
        }
      ],
      "source": [
        "# The DCG is maximum when query-url pair is arranged in decreasing order of Relevance\n",
        "\n",
        "#Sort in decreasing order of relevance score\n",
        "sortedQueryList = queryList.copy()\n",
        "sortedQueryList = sorted(sortedQueryList, key = lambda k: k['relevance'], reverse = True)\n",
        "\n",
        "print('Maximum DCG: ', calculateDCG(sortedQueryList))"
      ]
    },
    {
      "cell_type": "code",
      "execution_count": null,
      "metadata": {
        "id": "sO1g8QgKelLo"
      },
      "outputs": [],
      "source": [
        "queryUrlPairFile = open('queryUrlPairFile.txt', 'w')\n",
        "\n",
        "for queryurl in sortedQueryList:\n",
        "    \n",
        "    for key in queryurl:\n",
        "        if key == 'relevance':\n",
        "            queryUrlPairFile.write(f'{queryurl[key]} ')\n",
        "        else:\n",
        "            queryUrlPairFile.write(f'{key}:{queryurl[key]:g} ')\n",
        "    queryUrlPairFile.write('\\n')"
      ]
    },
    {
      "cell_type": "markdown",
      "metadata": {
        "id": "U-8cvvhCfg_o"
      },
      "source": [
        "### **No of Files**\n"
      ]
    },
    {
      "cell_type": "code",
      "execution_count": null,
      "metadata": {
        "colab": {
          "base_uri": "https://localhost:8080/"
        },
        "id": "pX4LrCUAfpn2",
        "outputId": "278822a6-7151-4f73-8e00-445fbdfaea0b"
      },
      "outputs": [
        {
          "name": "stdout",
          "output_type": "stream",
          "text": [
            "No of Files: 19893497375938370599826047614905329896936840170566570588205180312704857992695193482412686565431050240000000000000000000000\n"
          ]
        }
      ],
      "source": [
        "no_rel0 = 0\n",
        "no_rel1 = 0\n",
        "no_rel2 = 0\n",
        "no_rel3 = 0\n",
        "no_of_files = 1\n",
        "for queryurl in queryList:\n",
        "    \n",
        "    if queryurl['relevance'] == 0:\n",
        "        no_rel0 += 1\n",
        "        \n",
        "    if queryurl['relevance'] == 1:\n",
        "        no_rel1 += 1\n",
        "\n",
        "    if queryurl['relevance'] == 2:\n",
        "        no_rel2 += 1\n",
        "\n",
        "    if queryurl['relevance'] == 3:\n",
        "        no_rel3 += 1\n",
        "\n",
        "no_of_files = no_of_files * math.factorial(no_rel0) * math.factorial(no_rel1) * math.factorial(no_rel2) * math.factorial(no_rel3)\n",
        "print('No of Files:', no_of_files)\n"
      ]
    },
    {
      "cell_type": "markdown",
      "metadata": {
        "id": "YLxmN0bkf1db"
      },
      "source": [
        "### **nDCG at rank 50**"
      ]
    },
    {
      "cell_type": "code",
      "execution_count": null,
      "metadata": {
        "colab": {
          "base_uri": "https://localhost:8080/"
        },
        "id": "uZQR-A0lfsg2",
        "outputId": "0bc59e58-5e92-48ec-a9ec-35580bf28aae"
      },
      "outputs": [
        {
          "name": "stdout",
          "output_type": "stream",
          "text": [
            "Normalized Discounted Cumulative Gain at rank 50:  0.35612494416255847\n"
          ]
        }
      ],
      "source": [
        "dcg50 = calculateDCG(queryList[0:51])\n",
        "idcg50 = calculateDCG(sortedQueryList[0:51])\n",
        "\n",
        "ndcg50 = dcg50 / idcg50\n",
        "print('Normalized Discounted Cumulative Gain at rank 50: ', ndcg50)"
      ]
    },
    {
      "cell_type": "markdown",
      "metadata": {
        "id": "zlXoGtlkgCnN"
      },
      "source": [
        "### **nDCG for Whole Dataset**\n"
      ]
    },
    {
      "cell_type": "code",
      "execution_count": null,
      "metadata": {
        "colab": {
          "base_uri": "https://localhost:8080/"
        },
        "id": "OS3VL_P-gGKp",
        "outputId": "618072cd-ee97-41e6-d8ae-8b46f5384d54"
      },
      "outputs": [
        {
          "name": "stdout",
          "output_type": "stream",
          "text": [
            "Normalized Discounted Cumulative Gain for dataset:  0.5784691984582591\n"
          ]
        }
      ],
      "source": [
        "dcg = calculateDCG(queryList)\n",
        "idcg = calculateDCG(sortedQueryList)\n",
        "\n",
        "ndcg = dcg / idcg\n",
        "print('Normalized Discounted Cumulative Gain for dataset: ', ndcg)"
      ]
    },
    {
      "cell_type": "markdown",
      "metadata": {
        "id": "HfmZMseHgMAo"
      },
      "source": [
        "### **Precision - Recall Curve**"
      ]
    },
    {
      "cell_type": "code",
      "execution_count": null,
      "metadata": {
        "id": "6tEjKJWigIMk"
      },
      "outputs": [],
      "source": [
        "tdfidfQueryList = queryList.copy()\n",
        "#The 75 feature id corresponds to sum of tf*idf for whole document\n",
        "tdfidfQueryList = sorted(tdfidfQueryList, key = lambda k: k[75], reverse = True)\n",
        "\n",
        "retrievedItems = 0\n",
        "relevantItems = 0\n",
        "totalrelevantItems = 0\n",
        "precisionList = []\n",
        "recallList = []\n",
        "\n",
        "#Non zero relevance judgement value to be relevant\n",
        "for i in range(len(tdfidfQueryList)):\n",
        "    if tdfidfQueryList[i]['relevance'] > 0:\n",
        "        totalrelevantItems += 1\n",
        "\n",
        "for i in range(len(tdfidfQueryList)):\n",
        "    if tdfidfQueryList[i]['relevance'] > 0:\n",
        "        relevantItems += 1\n",
        "        \n",
        "    retrievedItems += 1\n",
        "    precision = relevantItems / retrievedItems\n",
        "    precisionList.append(precision)\n",
        "    \n",
        "    recall = relevantItems / totalrelevantItems\n",
        "    recallList.append(recall)\n"
      ]
    },
    {
      "cell_type": "code",
      "execution_count": null,
      "metadata": {
        "colab": {
          "base_uri": "https://localhost:8080/",
          "height": 417
        },
        "id": "OQ8GIOyogUAU",
        "outputId": "bfe876f8-9dee-4ca1-b2dc-bdf7db1b6ed9"
      },
      "outputs": [
        {
          "data": {
            "image/png": "[encoded data removed]",
            "text/plain": [
              "<Figure size 648x432 with 1 Axes>"
            ]
          },
          "metadata": {
            "needs_background": "light",
            "tags": []
          },
          "output_type": "display_data"
        }
      ],
      "source": [
        "plt.figure(figsize=(9, 6))\n",
        "plt.title('Precision-Recall Curve', size = 16, pad = 10)\n",
        "plt.plot(recallList, precisionList, color = 'r', linewidth = 3)\n",
        "plt.xlabel('Recall', fontsize = 14)\n",
        "plt.ylabel('Precision', fontsize = 14)\n",
        "plt.xticks(fontsize = 12)\n",
        "plt.yticks(fontsize = 12)\n",
        "plt.show()"
      ]
    }
  ],
  "metadata": {
    "colab": {
      "collapsed_sections": [],
      "name": "IR_A2_Q3.ipynb",
      "provenance": []
    },
    "kernelspec": {
      "display_name": "Python 3",
      "name": "python3"
    },
    "language_info": {
      "codemirror_mode": {
        "name": "ipython",
        "version": 3
      },
      "file_extension": ".py",
      "mimetype": "text/x-python",
      "name": "python",
      "nbconvert_exporter": "python",
      "pygments_lexer": "ipython3",
      "version": "3.8.8"
    }
  },
  "nbformat": 4,
  "nbformat_minor": 0
}
